{
  "nbformat": 4,
  "nbformat_minor": 0,
  "metadata": {
    "colab": {
      "provenance": [],
      "toc_visible": true,
      "authorship_tag": "ABX9TyMiTYs+37NtLwtQPYDNkAUq",
      "include_colab_link": true
    },
    "kernelspec": {
      "name": "python3",
      "display_name": "Python 3"
    },
    "language_info": {
      "name": "python"
    }
  },
  "cells": [
    {
      "cell_type": "markdown",
      "metadata": {
        "id": "view-in-github",
        "colab_type": "text"
      },
      "source": [
        "<a href=\"https://colab.research.google.com/github/xAseelx/masar/blob/main/HM_1.ipynb\" target=\"_parent\"><img src=\"https://colab.research.google.com/assets/colab-badge.svg\" alt=\"Open In Colab\"/></a>"
      ]
    },
    {
      "cell_type": "code",
      "execution_count": 5,
      "metadata": {
        "colab": {
          "base_uri": "https://localhost:8080/"
        },
        "id": "wOA_Ahu1Pafl",
        "outputId": "e164b825-74a2-477d-f301-82504cf80d95"
      },
      "outputs": [
        {
          "output_type": "stream",
          "name": "stdout",
          "text": [
            "My name is  Aseel  And I am  22\n"
          ]
        }
      ],
      "source": [
        "# الكود الاول مع منصة مسار البطلة\n",
        "\n",
        "name = 'Aseel'\n",
        "\n",
        "age = 22\n",
        "\n",
        "print('My name is ' , name , ' And I am ' , age)"
      ]
    }
  ]
}